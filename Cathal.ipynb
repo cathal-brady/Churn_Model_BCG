{
 "cells": [
  {
   "cell_type": "code",
   "execution_count": 12,
   "metadata": {},
   "outputs": [],
   "source": [
    "import dask.dataframe as dd\n",
    "import pandas as pd\n",
    "import numpy as np \n",
    "import matplotlib.pyplot as plt \n",
    "import plotly \n",
    "import seaborn as sns\n",
    "import gc\n",
    "\n",
    "from sklearn.model_selection import train_test_split\n",
    "from sklearn.ensemble import RandomForestClassifier\n",
    "from xgboost import XGBClassifier\n",
    "from sklearn.metrics import classification_report, confusion_matrix, roc_auc_score, roc_curve\n",
    "from sklearn.preprocessing import PolynomialFeatures\n",
    "#from imblearn.under_sampling import RandomUnderSampler"
   ]
  },
  {
   "cell_type": "code",
   "execution_count": 13,
   "metadata": {},
   "outputs": [],
   "source": [
    "ddf = dd.read_csv('../transactions_dataset.csv', sep=';')\n",
    "ddf = ddf[ddf['sales_net'] > 0]  # Exclude the often duplicate 0 sales transactions \n",
    "                                # And exclude refunds \n",
    "\n",
    "# Compute the result to get a pandas DataFrame\n",
    "df = ddf.compute()"
   ]
  },
  {
   "cell_type": "code",
   "execution_count": 14,
   "metadata": {},
   "outputs": [
    {
     "data": {
      "text/plain": [
       "Index(['date_order', 'date_invoice', 'product_id', 'client_id', 'sales_net',\n",
       "       'quantity', 'order_channel', 'branch_id'],\n",
       "      dtype='object')"
      ]
     },
     "execution_count": 14,
     "metadata": {},
     "output_type": "execute_result"
    }
   ],
   "source": [
    "df.columns"
   ]
  },
  {
   "cell_type": "code",
   "execution_count": 15,
   "metadata": {},
   "outputs": [
    {
     "data": {
      "text/plain": [
       "(58514567, 8)"
      ]
     },
     "execution_count": 15,
     "metadata": {},
     "output_type": "execute_result"
    }
   ],
   "source": [
    "df.shape"
   ]
  },
  {
   "cell_type": "code",
   "execution_count": 16,
   "metadata": {},
   "outputs": [],
   "source": [
    "# Group by client and check the last date_order, then calculate the recency\n",
    "df['date_order'] = pd.to_datetime(df['date_order'])\n",
    "recency = df.groupby('client_id')['date_order'].max().reset_index()\n",
    "recency['recency'] = recency['date_order'].max() - recency['date_order']\n",
    "recency['recency'] = recency['recency'].apply(lambda x: x.days)\n",
    "\n",
    "# Remove the date_order column\n",
    "recency.drop('date_order', axis=1, inplace=True)\n",
    "\n",
    "# Identify with a dummy those who have not bought in the last 30 days\n",
    "recency['inactive'] = recency['recency'] > 30"
   ]
  },
  {
   "cell_type": "code",
   "execution_count": 17,
   "metadata": {},
   "outputs": [
    {
     "data": {
      "text/plain": [
       "0.23134523007368443"
      ]
     },
     "execution_count": 17,
     "metadata": {},
     "output_type": "execute_result"
    }
   ],
   "source": [
    "# Restrict the data to people who bought something in the last 60 days \n",
    "recency = recency[recency['recency'] < 60]\n",
    "\n",
    "# Calculate the proportion of churners\n",
    "recency['inactive'].mean()"
   ]
  },
  {
   "cell_type": "code",
   "execution_count": 18,
   "metadata": {},
   "outputs": [],
   "source": [
    "# Add features such as number of different date_order, number of different products bought, nb of days since first order,\n",
    "# average basket, frequency of orders\n",
    "\n",
    "mask = df['date_order'] <= df['date_order'].max() - pd.Timedelta(days=30) # Remove the last month of data\n",
    "features = df[mask].groupby(['client_id']).agg({'date_order': ['nunique', 'min'], 'product_id': 'nunique', 'sales_net': 'mean'})\n",
    "features.columns = ['nb_orders', 'first_order', 'nb_products', 'average_basket']\n",
    "\n",
    "# Create new features\n",
    "features['days_since_first_order'] = (df['date_order'].max() - features['first_order']).dt.days\n",
    "features['frequency'] = features['nb_orders'] / features['days_since_first_order']\n",
    "features = features.drop('first_order', axis=1)"
   ]
  },
  {
   "cell_type": "code",
   "execution_count": 19,
   "metadata": {},
   "outputs": [],
   "source": [
    "# Compute % of sales per channel for each client\n",
    "mask = df['date_order'] <= df['date_order'].max() - pd.Timedelta(days=30) # Remove the last month of data\n",
    "channel_sales = df[mask].groupby(['client_id', 'order_channel'])['sales_net'].sum().unstack(fill_value=0)\n",
    "channel_sales = channel_sales.div(channel_sales.sum(axis=1), axis=0) * 100"
   ]
  },
  {
   "cell_type": "code",
   "execution_count": 20,
   "metadata": {},
   "outputs": [
    {
     "data": {
      "text/html": [
       "<div>\n",
       "<style scoped>\n",
       "    .dataframe tbody tr th:only-of-type {\n",
       "        vertical-align: middle;\n",
       "    }\n",
       "\n",
       "    .dataframe tbody tr th {\n",
       "        vertical-align: top;\n",
       "    }\n",
       "\n",
       "    .dataframe thead th {\n",
       "        text-align: right;\n",
       "    }\n",
       "</style>\n",
       "<table border=\"1\" class=\"dataframe\">\n",
       "  <thead>\n",
       "    <tr style=\"text-align: right;\">\n",
       "      <th></th>\n",
       "      <th>nb_orders</th>\n",
       "      <th>nb_products</th>\n",
       "      <th>average_basket</th>\n",
       "      <th>days_since_first_order</th>\n",
       "      <th>frequency</th>\n",
       "      <th>at the store</th>\n",
       "      <th>by phone</th>\n",
       "      <th>during the visit of a sales rep</th>\n",
       "      <th>online</th>\n",
       "      <th>other</th>\n",
       "    </tr>\n",
       "    <tr>\n",
       "      <th>client_id</th>\n",
       "      <th></th>\n",
       "      <th></th>\n",
       "      <th></th>\n",
       "      <th></th>\n",
       "      <th></th>\n",
       "      <th></th>\n",
       "      <th></th>\n",
       "      <th></th>\n",
       "      <th></th>\n",
       "      <th></th>\n",
       "    </tr>\n",
       "  </thead>\n",
       "  <tbody>\n",
       "    <tr>\n",
       "      <th>6</th>\n",
       "      <td>13</td>\n",
       "      <td>35</td>\n",
       "      <td>163.395361</td>\n",
       "      <td>695</td>\n",
       "      <td>0.018705</td>\n",
       "      <td>22.416561</td>\n",
       "      <td>77.583439</td>\n",
       "      <td>0.0</td>\n",
       "      <td>0.000000</td>\n",
       "      <td>0.0</td>\n",
       "    </tr>\n",
       "    <tr>\n",
       "      <th>7</th>\n",
       "      <td>2</td>\n",
       "      <td>10</td>\n",
       "      <td>79.385139</td>\n",
       "      <td>433</td>\n",
       "      <td>0.004619</td>\n",
       "      <td>100.000000</td>\n",
       "      <td>0.000000</td>\n",
       "      <td>0.0</td>\n",
       "      <td>0.000000</td>\n",
       "      <td>0.0</td>\n",
       "    </tr>\n",
       "    <tr>\n",
       "      <th>14</th>\n",
       "      <td>487</td>\n",
       "      <td>4757</td>\n",
       "      <td>260.104439</td>\n",
       "      <td>727</td>\n",
       "      <td>0.669876</td>\n",
       "      <td>1.949063</td>\n",
       "      <td>83.340556</td>\n",
       "      <td>0.0</td>\n",
       "      <td>14.710381</td>\n",
       "      <td>0.0</td>\n",
       "    </tr>\n",
       "    <tr>\n",
       "      <th>18</th>\n",
       "      <td>281</td>\n",
       "      <td>759</td>\n",
       "      <td>117.717070</td>\n",
       "      <td>726</td>\n",
       "      <td>0.387052</td>\n",
       "      <td>38.236234</td>\n",
       "      <td>56.830327</td>\n",
       "      <td>0.0</td>\n",
       "      <td>4.933439</td>\n",
       "      <td>0.0</td>\n",
       "    </tr>\n",
       "    <tr>\n",
       "      <th>25</th>\n",
       "      <td>1</td>\n",
       "      <td>4</td>\n",
       "      <td>93.646524</td>\n",
       "      <td>347</td>\n",
       "      <td>0.002882</td>\n",
       "      <td>100.000000</td>\n",
       "      <td>0.000000</td>\n",
       "      <td>0.0</td>\n",
       "      <td>0.000000</td>\n",
       "      <td>0.0</td>\n",
       "    </tr>\n",
       "  </tbody>\n",
       "</table>\n",
       "</div>"
      ],
      "text/plain": [
       "           nb_orders  nb_products  average_basket  days_since_first_order  \\\n",
       "client_id                                                                   \n",
       "6                 13           35      163.395361                     695   \n",
       "7                  2           10       79.385139                     433   \n",
       "14               487         4757      260.104439                     727   \n",
       "18               281          759      117.717070                     726   \n",
       "25                 1            4       93.646524                     347   \n",
       "\n",
       "           frequency  at the store   by phone  \\\n",
       "client_id                                       \n",
       "6           0.018705     22.416561  77.583439   \n",
       "7           0.004619    100.000000   0.000000   \n",
       "14          0.669876      1.949063  83.340556   \n",
       "18          0.387052     38.236234  56.830327   \n",
       "25          0.002882    100.000000   0.000000   \n",
       "\n",
       "           during the visit of a sales rep     online  other  \n",
       "client_id                                                     \n",
       "6                                      0.0   0.000000    0.0  \n",
       "7                                      0.0   0.000000    0.0  \n",
       "14                                     0.0  14.710381    0.0  \n",
       "18                                     0.0   4.933439    0.0  \n",
       "25                                     0.0   0.000000    0.0  "
      ]
     },
     "execution_count": 20,
     "metadata": {},
     "output_type": "execute_result"
    }
   ],
   "source": [
    "# Merge features and channel_sales\n",
    "features = features.merge(channel_sales, on='client_id', how='left')\n",
    "features.head()"
   ]
  },
  {
   "cell_type": "code",
   "execution_count": 21,
   "metadata": {},
   "outputs": [
    {
     "name": "stderr",
     "output_type": "stream",
     "text": [
      "C:\\Users\\35387\\AppData\\Local\\Temp\\ipykernel_28968\\3014166406.py:2: FutureWarning: 'M' is deprecated and will be removed in a future version, please use 'ME' instead.\n",
      "  monthly_stats = df.loc[mask].groupby(['client_id', pd.Grouper(key='date_order', freq='M')]).agg({\n"
     ]
    }
   ],
   "source": [
    "# Create a DF with monthly features\n",
    "monthly_stats = df.loc[mask].groupby(['client_id', pd.Grouper(key='date_order', freq='M')]).agg({\n",
    "    'date_order': 'nunique', \n",
    "    'sales_net': 'sum'\n",
    "}).unstack(fill_value=0)\n",
    "\n",
    "# Rename columns\n",
    "monthly_stats.columns = [f\"{col[0]}_{col[1].strftime('%Y-%m')}\" for col in monthly_stats.columns]\n",
    "\n",
    "\n",
    "# Fusionner avec le DataFrame features\n",
    "#features = features.join(monthly_stats, on='client_id')\n"
   ]
  },
  {
   "cell_type": "code",
   "execution_count": 22,
   "metadata": {},
   "outputs": [
    {
     "data": {
      "text/plain": [
       "7"
      ]
     },
     "execution_count": 22,
     "metadata": {},
     "output_type": "execute_result"
    }
   ],
   "source": [
    "gc.collect()"
   ]
  },
  {
   "cell_type": "code",
   "execution_count": 23,
   "metadata": {},
   "outputs": [],
   "source": [
    "# Compute the monthly evolutions in %\n",
    "monthly_pct_change = monthly_stats.pct_change(axis=1).multiply(100).add_suffix('_pct_change')\n",
    "\n",
    "# Replace inf with NaN\n",
    "monthly_pct_change.replace([np.inf, -np.inf], np.nan, inplace=True)"
   ]
  },
  {
   "cell_type": "code",
   "execution_count": 24,
   "metadata": {},
   "outputs": [
    {
     "name": "stderr",
     "output_type": "stream",
     "text": [
      "C:\\Users\\35387\\AppData\\Local\\Temp\\ipykernel_28968\\3604132426.py:7: FutureWarning: Support for axis=1 in DataFrame.rolling is deprecated and will be removed in a future version. Use obj.T.rolling(...) instead\n",
      "  rolling_6m = monthly_stats.rolling(window=6, axis=1).mean().add_suffix('_avg_6m')\n",
      "C:\\Users\\35387\\AppData\\Local\\Temp\\ipykernel_28968\\3604132426.py:8: FutureWarning: Support for axis=1 in DataFrame.rolling is deprecated and will be removed in a future version. Use obj.T.rolling(...) instead\n",
      "  rolling_3m = monthly_stats.rolling(window=3, axis=1).mean().add_suffix('_avg_3m')\n"
     ]
    }
   ],
   "source": [
    "# Calculer la variance de 'date_order' et 'sales_net' sur toute la période\n",
    "# Calculer la variance pour chaque type de colonne\n",
    "date_order_variance = monthly_stats.filter(like='date_order').var(axis=1).rename('date_order_variance')\n",
    "sales_net_variance = monthly_stats.filter(like='sales_net').var(axis=1).rename('sales_net_variance')\n",
    "\n",
    "# Moyennes sur les 6 et 3 derniers mois\n",
    "rolling_6m = monthly_stats.rolling(window=6, axis=1).mean().add_suffix('_avg_6m')\n",
    "rolling_3m = monthly_stats.rolling(window=3, axis=1).mean().add_suffix('_avg_3m')\n",
    "rolling_6m = rolling_6m[['date_order_2019-08_avg_6m', 'sales_net_2019-08_avg_6m']]\n",
    "rolling_3m = rolling_3m[['date_order_2019-08_avg_3m', 'sales_net_2019-08_avg_3m']]"
   ]
  },
  {
   "cell_type": "code",
   "execution_count": 25,
   "metadata": {},
   "outputs": [],
   "source": [
    "# Merge with features\n",
    "features_v2 = features.join(monthly_stats, on='client_id')\n",
    "features_v2 = features_v2.join(monthly_pct_change, on='client_id')\n",
    "features_v2 = features_v2.join(date_order_variance, on='client_id')\n",
    "features_v2 = features_v2.join(sales_net_variance, on='client_id')\n",
    "features_v2 = features_v2.join(rolling_6m, on='client_id')\n",
    "features_v2 = features_v2.join(rolling_3m, on='client_id')"
   ]
  },
  {
   "cell_type": "code",
   "execution_count": 61,
   "metadata": {},
   "outputs": [],
   "source": [
    "# Merge the two dataframes\n",
    "data = recency.merge(features_v2, on='client_id', how='left')"
   ]
  },
  {
   "cell_type": "code",
   "execution_count": 62,
   "metadata": {},
   "outputs": [
    {
     "data": {
      "text/plain": [
       "(92014, 115)"
      ]
     },
     "execution_count": 62,
     "metadata": {},
     "output_type": "execute_result"
    }
   ],
   "source": [
    "data.shape"
   ]
  },
  {
   "cell_type": "code",
   "execution_count": 63,
   "metadata": {},
   "outputs": [
    {
     "data": {
      "text/html": [
       "<div>\n",
       "<style scoped>\n",
       "    .dataframe tbody tr th:only-of-type {\n",
       "        vertical-align: middle;\n",
       "    }\n",
       "\n",
       "    .dataframe tbody tr th {\n",
       "        vertical-align: top;\n",
       "    }\n",
       "\n",
       "    .dataframe thead th {\n",
       "        text-align: right;\n",
       "    }\n",
       "</style>\n",
       "<table border=\"1\" class=\"dataframe\">\n",
       "  <thead>\n",
       "    <tr style=\"text-align: right;\">\n",
       "      <th></th>\n",
       "      <th>client_id</th>\n",
       "      <th>recency</th>\n",
       "      <th>inactive</th>\n",
       "      <th>nb_orders</th>\n",
       "      <th>nb_products</th>\n",
       "      <th>average_basket</th>\n",
       "      <th>days_since_first_order</th>\n",
       "      <th>frequency</th>\n",
       "      <th>at the store</th>\n",
       "      <th>by phone</th>\n",
       "      <th>...</th>\n",
       "      <th>sales_net_2019-05_pct_change</th>\n",
       "      <th>sales_net_2019-06_pct_change</th>\n",
       "      <th>sales_net_2019-07_pct_change</th>\n",
       "      <th>sales_net_2019-08_pct_change</th>\n",
       "      <th>date_order_variance</th>\n",
       "      <th>sales_net_variance</th>\n",
       "      <th>date_order_2019-08_avg_6m</th>\n",
       "      <th>sales_net_2019-08_avg_6m</th>\n",
       "      <th>date_order_2019-08_avg_3m</th>\n",
       "      <th>sales_net_2019-08_avg_3m</th>\n",
       "    </tr>\n",
       "  </thead>\n",
       "  <tbody>\n",
       "    <tr>\n",
       "      <th>0</th>\n",
       "      <td>6</td>\n",
       "      <td>40</td>\n",
       "      <td>True</td>\n",
       "      <td>13.0</td>\n",
       "      <td>35.0</td>\n",
       "      <td>163.395361</td>\n",
       "      <td>695.0</td>\n",
       "      <td>0.018705</td>\n",
       "      <td>22.416561</td>\n",
       "      <td>77.583439</td>\n",
       "      <td>...</td>\n",
       "      <td>NaN</td>\n",
       "      <td>NaN</td>\n",
       "      <td>NaN</td>\n",
       "      <td>-97.386934</td>\n",
       "      <td>0.693841</td>\n",
       "      <td>2.950564e+05</td>\n",
       "      <td>0.500000</td>\n",
       "      <td>398.307645</td>\n",
       "      <td>1.000000</td>\n",
       "      <td>796.615290</td>\n",
       "    </tr>\n",
       "    <tr>\n",
       "      <th>1</th>\n",
       "      <td>14</td>\n",
       "      <td>2</td>\n",
       "      <td>False</td>\n",
       "      <td>487.0</td>\n",
       "      <td>4757.0</td>\n",
       "      <td>260.104439</td>\n",
       "      <td>727.0</td>\n",
       "      <td>0.669876</td>\n",
       "      <td>1.949063</td>\n",
       "      <td>83.340556</td>\n",
       "      <td>...</td>\n",
       "      <td>6.284473</td>\n",
       "      <td>97.052861</td>\n",
       "      <td>-23.775473</td>\n",
       "      <td>-33.318698</td>\n",
       "      <td>14.215580</td>\n",
       "      <td>3.242250e+09</td>\n",
       "      <td>20.666667</td>\n",
       "      <td>136164.647550</td>\n",
       "      <td>20.000000</td>\n",
       "      <td>146696.968445</td>\n",
       "    </tr>\n",
       "    <tr>\n",
       "      <th>2</th>\n",
       "      <td>18</td>\n",
       "      <td>10</td>\n",
       "      <td>False</td>\n",
       "      <td>281.0</td>\n",
       "      <td>759.0</td>\n",
       "      <td>117.717070</td>\n",
       "      <td>726.0</td>\n",
       "      <td>0.387052</td>\n",
       "      <td>38.236234</td>\n",
       "      <td>56.830327</td>\n",
       "      <td>...</td>\n",
       "      <td>-66.631033</td>\n",
       "      <td>103.905871</td>\n",
       "      <td>88.616446</td>\n",
       "      <td>-37.877837</td>\n",
       "      <td>11.606884</td>\n",
       "      <td>3.396692e+07</td>\n",
       "      <td>12.500000</td>\n",
       "      <td>10724.690309</td>\n",
       "      <td>13.333333</td>\n",
       "      <td>12845.564697</td>\n",
       "    </tr>\n",
       "    <tr>\n",
       "      <th>3</th>\n",
       "      <td>40</td>\n",
       "      <td>20</td>\n",
       "      <td>False</td>\n",
       "      <td>57.0</td>\n",
       "      <td>138.0</td>\n",
       "      <td>204.666585</td>\n",
       "      <td>727.0</td>\n",
       "      <td>0.078404</td>\n",
       "      <td>40.242711</td>\n",
       "      <td>59.757289</td>\n",
       "      <td>...</td>\n",
       "      <td>301.745584</td>\n",
       "      <td>-15.498107</td>\n",
       "      <td>-26.435417</td>\n",
       "      <td>49.690669</td>\n",
       "      <td>2.418478</td>\n",
       "      <td>1.430422e+06</td>\n",
       "      <td>2.500000</td>\n",
       "      <td>1478.598051</td>\n",
       "      <td>3.000000</td>\n",
       "      <td>1854.646584</td>\n",
       "    </tr>\n",
       "    <tr>\n",
       "      <th>4</th>\n",
       "      <td>56</td>\n",
       "      <td>20</td>\n",
       "      <td>False</td>\n",
       "      <td>29.0</td>\n",
       "      <td>114.0</td>\n",
       "      <td>83.126516</td>\n",
       "      <td>696.0</td>\n",
       "      <td>0.041667</td>\n",
       "      <td>80.081339</td>\n",
       "      <td>19.918661</td>\n",
       "      <td>...</td>\n",
       "      <td>445.847492</td>\n",
       "      <td>-51.765622</td>\n",
       "      <td>-100.000000</td>\n",
       "      <td>NaN</td>\n",
       "      <td>1.563406</td>\n",
       "      <td>3.340104e+05</td>\n",
       "      <td>0.666667</td>\n",
       "      <td>227.356005</td>\n",
       "      <td>0.666667</td>\n",
       "      <td>131.685120</td>\n",
       "    </tr>\n",
       "  </tbody>\n",
       "</table>\n",
       "<p>5 rows × 115 columns</p>\n",
       "</div>"
      ],
      "text/plain": [
       "   client_id  recency  inactive  nb_orders  nb_products  average_basket  \\\n",
       "0          6       40      True       13.0         35.0      163.395361   \n",
       "1         14        2     False      487.0       4757.0      260.104439   \n",
       "2         18       10     False      281.0        759.0      117.717070   \n",
       "3         40       20     False       57.0        138.0      204.666585   \n",
       "4         56       20     False       29.0        114.0       83.126516   \n",
       "\n",
       "   days_since_first_order  frequency  at the store   by phone  ...  \\\n",
       "0                   695.0   0.018705     22.416561  77.583439  ...   \n",
       "1                   727.0   0.669876      1.949063  83.340556  ...   \n",
       "2                   726.0   0.387052     38.236234  56.830327  ...   \n",
       "3                   727.0   0.078404     40.242711  59.757289  ...   \n",
       "4                   696.0   0.041667     80.081339  19.918661  ...   \n",
       "\n",
       "   sales_net_2019-05_pct_change  sales_net_2019-06_pct_change  \\\n",
       "0                           NaN                           NaN   \n",
       "1                      6.284473                     97.052861   \n",
       "2                    -66.631033                    103.905871   \n",
       "3                    301.745584                    -15.498107   \n",
       "4                    445.847492                    -51.765622   \n",
       "\n",
       "   sales_net_2019-07_pct_change  sales_net_2019-08_pct_change  \\\n",
       "0                           NaN                    -97.386934   \n",
       "1                    -23.775473                    -33.318698   \n",
       "2                     88.616446                    -37.877837   \n",
       "3                    -26.435417                     49.690669   \n",
       "4                   -100.000000                           NaN   \n",
       "\n",
       "   date_order_variance  sales_net_variance  date_order_2019-08_avg_6m  \\\n",
       "0             0.693841        2.950564e+05                   0.500000   \n",
       "1            14.215580        3.242250e+09                  20.666667   \n",
       "2            11.606884        3.396692e+07                  12.500000   \n",
       "3             2.418478        1.430422e+06                   2.500000   \n",
       "4             1.563406        3.340104e+05                   0.666667   \n",
       "\n",
       "   sales_net_2019-08_avg_6m  date_order_2019-08_avg_3m  \\\n",
       "0                398.307645                   1.000000   \n",
       "1             136164.647550                  20.000000   \n",
       "2              10724.690309                  13.333333   \n",
       "3               1478.598051                   3.000000   \n",
       "4                227.356005                   0.666667   \n",
       "\n",
       "   sales_net_2019-08_avg_3m  \n",
       "0                796.615290  \n",
       "1             146696.968445  \n",
       "2              12845.564697  \n",
       "3               1854.646584  \n",
       "4                131.685120  \n",
       "\n",
       "[5 rows x 115 columns]"
      ]
     },
     "execution_count": 63,
     "metadata": {},
     "output_type": "execute_result"
    }
   ],
   "source": [
    "data.head()"
   ]
  },
  {
   "cell_type": "code",
   "execution_count": null,
   "metadata": {},
   "outputs": [],
   "source": [
    "# Remove the clients with nb_orders = NaN (those who had their first order in the last month)\n",
    "#data = data.dropna()"
   ]
  },
  {
   "cell_type": "code",
   "execution_count": 64,
   "metadata": {},
   "outputs": [
    {
     "data": {
      "text/html": [
       "<div>\n",
       "<style scoped>\n",
       "    .dataframe tbody tr th:only-of-type {\n",
       "        vertical-align: middle;\n",
       "    }\n",
       "\n",
       "    .dataframe tbody tr th {\n",
       "        vertical-align: top;\n",
       "    }\n",
       "\n",
       "    .dataframe thead th {\n",
       "        text-align: right;\n",
       "    }\n",
       "</style>\n",
       "<table border=\"1\" class=\"dataframe\">\n",
       "  <thead>\n",
       "    <tr style=\"text-align: right;\">\n",
       "      <th></th>\n",
       "      <th>client_id</th>\n",
       "      <th>recency</th>\n",
       "      <th>inactive</th>\n",
       "      <th>nb_orders</th>\n",
       "      <th>nb_products</th>\n",
       "      <th>average_basket</th>\n",
       "      <th>days_since_first_order</th>\n",
       "      <th>frequency</th>\n",
       "      <th>at the store</th>\n",
       "      <th>by phone</th>\n",
       "      <th>...</th>\n",
       "      <th>sales_net_2019-06_pct_change</th>\n",
       "      <th>sales_net_2019-07_pct_change</th>\n",
       "      <th>sales_net_2019-08_pct_change</th>\n",
       "      <th>date_order_variance</th>\n",
       "      <th>sales_net_variance</th>\n",
       "      <th>date_order_2019-08_avg_6m</th>\n",
       "      <th>sales_net_2019-08_avg_6m</th>\n",
       "      <th>date_order_2019-08_avg_3m</th>\n",
       "      <th>sales_net_2019-08_avg_3m</th>\n",
       "      <th>quali_relation</th>\n",
       "    </tr>\n",
       "  </thead>\n",
       "  <tbody>\n",
       "    <tr>\n",
       "      <th>0</th>\n",
       "      <td>6</td>\n",
       "      <td>40</td>\n",
       "      <td>True</td>\n",
       "      <td>13.0</td>\n",
       "      <td>35.0</td>\n",
       "      <td>163.395361</td>\n",
       "      <td>695.0</td>\n",
       "      <td>0.018705</td>\n",
       "      <td>22.416561</td>\n",
       "      <td>77.583439</td>\n",
       "      <td>...</td>\n",
       "      <td>NaN</td>\n",
       "      <td>NaN</td>\n",
       "      <td>-97.386934</td>\n",
       "      <td>0.693841</td>\n",
       "      <td>2.950564e+05</td>\n",
       "      <td>0.500000</td>\n",
       "      <td>398.307645</td>\n",
       "      <td>1.000000</td>\n",
       "      <td>796.615290</td>\n",
       "      <td>Agreeable client</td>\n",
       "    </tr>\n",
       "    <tr>\n",
       "      <th>1</th>\n",
       "      <td>14</td>\n",
       "      <td>2</td>\n",
       "      <td>False</td>\n",
       "      <td>487.0</td>\n",
       "      <td>4757.0</td>\n",
       "      <td>260.104439</td>\n",
       "      <td>727.0</td>\n",
       "      <td>0.669876</td>\n",
       "      <td>1.949063</td>\n",
       "      <td>83.340556</td>\n",
       "      <td>...</td>\n",
       "      <td>97.052861</td>\n",
       "      <td>-23.775473</td>\n",
       "      <td>-33.318698</td>\n",
       "      <td>14.215580</td>\n",
       "      <td>3.242250e+09</td>\n",
       "      <td>20.666667</td>\n",
       "      <td>136164.647550</td>\n",
       "      <td>20.000000</td>\n",
       "      <td>146696.968445</td>\n",
       "      <td>Agreeable client</td>\n",
       "    </tr>\n",
       "    <tr>\n",
       "      <th>2</th>\n",
       "      <td>18</td>\n",
       "      <td>10</td>\n",
       "      <td>False</td>\n",
       "      <td>281.0</td>\n",
       "      <td>759.0</td>\n",
       "      <td>117.717070</td>\n",
       "      <td>726.0</td>\n",
       "      <td>0.387052</td>\n",
       "      <td>38.236234</td>\n",
       "      <td>56.830327</td>\n",
       "      <td>...</td>\n",
       "      <td>103.905871</td>\n",
       "      <td>88.616446</td>\n",
       "      <td>-37.877837</td>\n",
       "      <td>11.606884</td>\n",
       "      <td>3.396692e+07</td>\n",
       "      <td>12.500000</td>\n",
       "      <td>10724.690309</td>\n",
       "      <td>13.333333</td>\n",
       "      <td>12845.564697</td>\n",
       "      <td>Agreeable client</td>\n",
       "    </tr>\n",
       "    <tr>\n",
       "      <th>3</th>\n",
       "      <td>40</td>\n",
       "      <td>20</td>\n",
       "      <td>False</td>\n",
       "      <td>57.0</td>\n",
       "      <td>138.0</td>\n",
       "      <td>204.666585</td>\n",
       "      <td>727.0</td>\n",
       "      <td>0.078404</td>\n",
       "      <td>40.242711</td>\n",
       "      <td>59.757289</td>\n",
       "      <td>...</td>\n",
       "      <td>-15.498107</td>\n",
       "      <td>-26.435417</td>\n",
       "      <td>49.690669</td>\n",
       "      <td>2.418478</td>\n",
       "      <td>1.430422e+06</td>\n",
       "      <td>2.500000</td>\n",
       "      <td>1478.598051</td>\n",
       "      <td>3.000000</td>\n",
       "      <td>1854.646584</td>\n",
       "      <td>Difficult client</td>\n",
       "    </tr>\n",
       "    <tr>\n",
       "      <th>4</th>\n",
       "      <td>56</td>\n",
       "      <td>20</td>\n",
       "      <td>False</td>\n",
       "      <td>29.0</td>\n",
       "      <td>114.0</td>\n",
       "      <td>83.126516</td>\n",
       "      <td>696.0</td>\n",
       "      <td>0.041667</td>\n",
       "      <td>80.081339</td>\n",
       "      <td>19.918661</td>\n",
       "      <td>...</td>\n",
       "      <td>-51.765622</td>\n",
       "      <td>-100.000000</td>\n",
       "      <td>NaN</td>\n",
       "      <td>1.563406</td>\n",
       "      <td>3.340104e+05</td>\n",
       "      <td>0.666667</td>\n",
       "      <td>227.356005</td>\n",
       "      <td>0.666667</td>\n",
       "      <td>131.685120</td>\n",
       "      <td>Agreeable client</td>\n",
       "    </tr>\n",
       "  </tbody>\n",
       "</table>\n",
       "<p>5 rows × 116 columns</p>\n",
       "</div>"
      ],
      "text/plain": [
       "   client_id  recency  inactive  nb_orders  nb_products  average_basket  \\\n",
       "0          6       40      True       13.0         35.0      163.395361   \n",
       "1         14        2     False      487.0       4757.0      260.104439   \n",
       "2         18       10     False      281.0        759.0      117.717070   \n",
       "3         40       20     False       57.0        138.0      204.666585   \n",
       "4         56       20     False       29.0        114.0       83.126516   \n",
       "\n",
       "   days_since_first_order  frequency  at the store   by phone  ...  \\\n",
       "0                   695.0   0.018705     22.416561  77.583439  ...   \n",
       "1                   727.0   0.669876      1.949063  83.340556  ...   \n",
       "2                   726.0   0.387052     38.236234  56.830327  ...   \n",
       "3                   727.0   0.078404     40.242711  59.757289  ...   \n",
       "4                   696.0   0.041667     80.081339  19.918661  ...   \n",
       "\n",
       "   sales_net_2019-06_pct_change  sales_net_2019-07_pct_change  \\\n",
       "0                           NaN                           NaN   \n",
       "1                     97.052861                    -23.775473   \n",
       "2                    103.905871                     88.616446   \n",
       "3                    -15.498107                    -26.435417   \n",
       "4                    -51.765622                   -100.000000   \n",
       "\n",
       "   sales_net_2019-08_pct_change  date_order_variance  sales_net_variance  \\\n",
       "0                    -97.386934             0.693841        2.950564e+05   \n",
       "1                    -33.318698            14.215580        3.242250e+09   \n",
       "2                    -37.877837            11.606884        3.396692e+07   \n",
       "3                     49.690669             2.418478        1.430422e+06   \n",
       "4                           NaN             1.563406        3.340104e+05   \n",
       "\n",
       "   date_order_2019-08_avg_6m  sales_net_2019-08_avg_6m  \\\n",
       "0                   0.500000                398.307645   \n",
       "1                  20.666667             136164.647550   \n",
       "2                  12.500000              10724.690309   \n",
       "3                   2.500000               1478.598051   \n",
       "4                   0.666667                227.356005   \n",
       "\n",
       "   date_order_2019-08_avg_3m  sales_net_2019-08_avg_3m    quali_relation  \n",
       "0                   1.000000                796.615290  Agreeable client  \n",
       "1                  20.000000             146696.968445  Agreeable client  \n",
       "2                  13.333333              12845.564697  Agreeable client  \n",
       "3                   3.000000               1854.646584  Difficult client  \n",
       "4                   0.666667                131.685120  Agreeable client  \n",
       "\n",
       "[5 rows x 116 columns]"
      ]
     },
     "execution_count": 64,
     "metadata": {},
     "output_type": "execute_result"
    }
   ],
   "source": [
    "# Merge with the client relationship dataset\n",
    "client_relationship = pd.read_csv('../sales_client_relationship_dataset.csv')\n",
    "\n",
    "data = data.merge(client_relationship, on='client_id', how='left')\n",
    "\n",
    "data.head()"
   ]
  },
  {
   "cell_type": "code",
   "execution_count": 65,
   "metadata": {},
   "outputs": [
    {
     "name": "stderr",
     "output_type": "stream",
     "text": [
      "c:\\Users\\35387\\anaconda3\\Lib\\site-packages\\seaborn\\_oldcore.py:1119: FutureWarning: use_inf_as_na option is deprecated and will be removed in a future version. Convert inf values to NaN before operating instead.\n",
      "  with pd.option_context('mode.use_inf_as_na', True):\n"
     ]
    },
    {
     "data": {
      "text/plain": [
       "<seaborn.axisgrid.FacetGrid at 0x1fba4cb15d0>"
      ]
     },
     "execution_count": 65,
     "metadata": {},
     "output_type": "execute_result"
    },
    {
     "data": {
      "image/png": "[encoded data removed]",
      "text/plain": [
       "<Figure size 500x500 with 1 Axes>"
      ]
     },
     "metadata": {},
     "output_type": "display_data"
    }
   ],
   "source": [
    "# Check the distribution of days_since_first_order\n",
    "sns.displot(data['days_since_first_order'])"
   ]
  },
  {
   "cell_type": "code",
   "execution_count": 66,
   "metadata": {},
   "outputs": [
    {
     "data": {
      "text/plain": [
       "730.0"
      ]
     },
     "execution_count": 66,
     "metadata": {},
     "output_type": "execute_result"
    }
   ],
   "source": [
    "data['days_since_first_order'].max()"
   ]
  },
  {
   "cell_type": "code",
   "execution_count": 67,
   "metadata": {},
   "outputs": [],
   "source": [
    "# Replace the days_since_first_order by a categorical variable\n",
    "# If days_since_first_order > 650, then old_client = 1\n",
    "data['old_client'] = data['days_since_first_order'] > 650\n",
    "\n",
    "# Remove the days_since_first_order column\n",
    "data = data.drop('days_since_first_order', axis=1)"
   ]
  },
  {
   "cell_type": "code",
   "execution_count": 68,
   "metadata": {},
   "outputs": [],
   "source": [
    "# Change the names of some columns\n",
    "data = data.rename(columns={'at the store': 'at_store', 'by phone': 'phone',\n",
    "                            'during the visit of a sales rep': 'sales_rep'})"
   ]
  },
  {
   "cell_type": "code",
   "execution_count": 69,
   "metadata": {},
   "outputs": [],
   "source": [
    "# Transform quali_relation into dummies\n",
    "data = pd.get_dummies(data, columns=['quali_relation'])"
   ]
  },
  {
   "cell_type": "code",
   "execution_count": 79,
   "metadata": {},
   "outputs": [],
   "source": [
    "data.drop(columns=['date_order_2017-09_pct_change'], inplace=True)"
   ]
  },
  {
   "cell_type": "markdown",
   "metadata": {},
   "source": [
    "### Train a model"
   ]
  },
  {
   "cell_type": "markdown",
   "metadata": {},
   "source": [
    "#### v1 : rf"
   ]
  },
  {
   "cell_type": "code",
   "execution_count": 76,
   "metadata": {},
   "outputs": [
    {
     "data": {
      "text/html": [
       "<div>\n",
       "<style scoped>\n",
       "    .dataframe tbody tr th:only-of-type {\n",
       "        vertical-align: middle;\n",
       "    }\n",
       "\n",
       "    .dataframe tbody tr th {\n",
       "        vertical-align: top;\n",
       "    }\n",
       "\n",
       "    .dataframe thead th {\n",
       "        text-align: right;\n",
       "    }\n",
       "</style>\n",
       "<table border=\"1\" class=\"dataframe\">\n",
       "  <thead>\n",
       "    <tr style=\"text-align: right;\">\n",
       "      <th></th>\n",
       "      <th>client_id</th>\n",
       "      <th>recency</th>\n",
       "      <th>inactive</th>\n",
       "      <th>nb_orders</th>\n",
       "      <th>nb_products</th>\n",
       "      <th>average_basket</th>\n",
       "      <th>frequency</th>\n",
       "      <th>at_store</th>\n",
       "      <th>phone</th>\n",
       "      <th>sales_rep</th>\n",
       "      <th>...</th>\n",
       "      <th>date_order_variance</th>\n",
       "      <th>sales_net_variance</th>\n",
       "      <th>date_order_2019-08_avg_6m</th>\n",
       "      <th>sales_net_2019-08_avg_6m</th>\n",
       "      <th>date_order_2019-08_avg_3m</th>\n",
       "      <th>sales_net_2019-08_avg_3m</th>\n",
       "      <th>old_client</th>\n",
       "      <th>quali_relation_Agreeable client</th>\n",
       "      <th>quali_relation_Demanding client</th>\n",
       "      <th>quali_relation_Difficult client</th>\n",
       "    </tr>\n",
       "  </thead>\n",
       "  <tbody>\n",
       "    <tr>\n",
       "      <th>0</th>\n",
       "      <td>6</td>\n",
       "      <td>40</td>\n",
       "      <td>True</td>\n",
       "      <td>13.0</td>\n",
       "      <td>35.0</td>\n",
       "      <td>163.395361</td>\n",
       "      <td>0.018705</td>\n",
       "      <td>22.416561</td>\n",
       "      <td>77.583439</td>\n",
       "      <td>0.0</td>\n",
       "      <td>...</td>\n",
       "      <td>0.693841</td>\n",
       "      <td>2.950564e+05</td>\n",
       "      <td>0.500000</td>\n",
       "      <td>398.307645</td>\n",
       "      <td>1.000000</td>\n",
       "      <td>796.615290</td>\n",
       "      <td>True</td>\n",
       "      <td>True</td>\n",
       "      <td>False</td>\n",
       "      <td>False</td>\n",
       "    </tr>\n",
       "    <tr>\n",
       "      <th>1</th>\n",
       "      <td>14</td>\n",
       "      <td>2</td>\n",
       "      <td>False</td>\n",
       "      <td>487.0</td>\n",
       "      <td>4757.0</td>\n",
       "      <td>260.104439</td>\n",
       "      <td>0.669876</td>\n",
       "      <td>1.949063</td>\n",
       "      <td>83.340556</td>\n",
       "      <td>0.0</td>\n",
       "      <td>...</td>\n",
       "      <td>14.215580</td>\n",
       "      <td>3.242250e+09</td>\n",
       "      <td>20.666667</td>\n",
       "      <td>136164.647550</td>\n",
       "      <td>20.000000</td>\n",
       "      <td>146696.968445</td>\n",
       "      <td>True</td>\n",
       "      <td>True</td>\n",
       "      <td>False</td>\n",
       "      <td>False</td>\n",
       "    </tr>\n",
       "    <tr>\n",
       "      <th>2</th>\n",
       "      <td>18</td>\n",
       "      <td>10</td>\n",
       "      <td>False</td>\n",
       "      <td>281.0</td>\n",
       "      <td>759.0</td>\n",
       "      <td>117.717070</td>\n",
       "      <td>0.387052</td>\n",
       "      <td>38.236234</td>\n",
       "      <td>56.830327</td>\n",
       "      <td>0.0</td>\n",
       "      <td>...</td>\n",
       "      <td>11.606884</td>\n",
       "      <td>3.396692e+07</td>\n",
       "      <td>12.500000</td>\n",
       "      <td>10724.690309</td>\n",
       "      <td>13.333333</td>\n",
       "      <td>12845.564697</td>\n",
       "      <td>True</td>\n",
       "      <td>True</td>\n",
       "      <td>False</td>\n",
       "      <td>False</td>\n",
       "    </tr>\n",
       "    <tr>\n",
       "      <th>3</th>\n",
       "      <td>40</td>\n",
       "      <td>20</td>\n",
       "      <td>False</td>\n",
       "      <td>57.0</td>\n",
       "      <td>138.0</td>\n",
       "      <td>204.666585</td>\n",
       "      <td>0.078404</td>\n",
       "      <td>40.242711</td>\n",
       "      <td>59.757289</td>\n",
       "      <td>0.0</td>\n",
       "      <td>...</td>\n",
       "      <td>2.418478</td>\n",
       "      <td>1.430422e+06</td>\n",
       "      <td>2.500000</td>\n",
       "      <td>1478.598051</td>\n",
       "      <td>3.000000</td>\n",
       "      <td>1854.646584</td>\n",
       "      <td>True</td>\n",
       "      <td>False</td>\n",
       "      <td>False</td>\n",
       "      <td>True</td>\n",
       "    </tr>\n",
       "    <tr>\n",
       "      <th>4</th>\n",
       "      <td>56</td>\n",
       "      <td>20</td>\n",
       "      <td>False</td>\n",
       "      <td>29.0</td>\n",
       "      <td>114.0</td>\n",
       "      <td>83.126516</td>\n",
       "      <td>0.041667</td>\n",
       "      <td>80.081339</td>\n",
       "      <td>19.918661</td>\n",
       "      <td>0.0</td>\n",
       "      <td>...</td>\n",
       "      <td>1.563406</td>\n",
       "      <td>3.340104e+05</td>\n",
       "      <td>0.666667</td>\n",
       "      <td>227.356005</td>\n",
       "      <td>0.666667</td>\n",
       "      <td>131.685120</td>\n",
       "      <td>True</td>\n",
       "      <td>True</td>\n",
       "      <td>False</td>\n",
       "      <td>False</td>\n",
       "    </tr>\n",
       "    <tr>\n",
       "      <th>...</th>\n",
       "      <td>...</td>\n",
       "      <td>...</td>\n",
       "      <td>...</td>\n",
       "      <td>...</td>\n",
       "      <td>...</td>\n",
       "      <td>...</td>\n",
       "      <td>...</td>\n",
       "      <td>...</td>\n",
       "      <td>...</td>\n",
       "      <td>...</td>\n",
       "      <td>...</td>\n",
       "      <td>...</td>\n",
       "      <td>...</td>\n",
       "      <td>...</td>\n",
       "      <td>...</td>\n",
       "      <td>...</td>\n",
       "      <td>...</td>\n",
       "      <td>...</td>\n",
       "      <td>...</td>\n",
       "      <td>...</td>\n",
       "      <td>...</td>\n",
       "    </tr>\n",
       "    <tr>\n",
       "      <th>92009</th>\n",
       "      <td>2274398</td>\n",
       "      <td>20</td>\n",
       "      <td>False</td>\n",
       "      <td>10.0</td>\n",
       "      <td>37.0</td>\n",
       "      <td>306.110773</td>\n",
       "      <td>0.014025</td>\n",
       "      <td>0.000000</td>\n",
       "      <td>100.000000</td>\n",
       "      <td>0.0</td>\n",
       "      <td>...</td>\n",
       "      <td>0.514493</td>\n",
       "      <td>2.818196e+06</td>\n",
       "      <td>0.166667</td>\n",
       "      <td>1282.352427</td>\n",
       "      <td>0.333333</td>\n",
       "      <td>2564.704853</td>\n",
       "      <td>True</td>\n",
       "      <td>True</td>\n",
       "      <td>False</td>\n",
       "      <td>False</td>\n",
       "    </tr>\n",
       "    <tr>\n",
       "      <th>92010</th>\n",
       "      <td>2274410</td>\n",
       "      <td>10</td>\n",
       "      <td>False</td>\n",
       "      <td>92.0</td>\n",
       "      <td>224.0</td>\n",
       "      <td>68.305927</td>\n",
       "      <td>0.128134</td>\n",
       "      <td>52.266890</td>\n",
       "      <td>47.733110</td>\n",
       "      <td>0.0</td>\n",
       "      <td>...</td>\n",
       "      <td>6.927536</td>\n",
       "      <td>1.171794e+06</td>\n",
       "      <td>5.333333</td>\n",
       "      <td>1647.072700</td>\n",
       "      <td>4.333333</td>\n",
       "      <td>1421.070536</td>\n",
       "      <td>True</td>\n",
       "      <td>False</td>\n",
       "      <td>True</td>\n",
       "      <td>False</td>\n",
       "    </tr>\n",
       "    <tr>\n",
       "      <th>92011</th>\n",
       "      <td>2274440</td>\n",
       "      <td>10</td>\n",
       "      <td>False</td>\n",
       "      <td>24.0</td>\n",
       "      <td>87.0</td>\n",
       "      <td>198.413397</td>\n",
       "      <td>0.033149</td>\n",
       "      <td>29.477999</td>\n",
       "      <td>70.522001</td>\n",
       "      <td>0.0</td>\n",
       "      <td>...</td>\n",
       "      <td>0.956522</td>\n",
       "      <td>5.014314e+06</td>\n",
       "      <td>1.166667</td>\n",
       "      <td>283.109208</td>\n",
       "      <td>1.000000</td>\n",
       "      <td>372.475432</td>\n",
       "      <td>True</td>\n",
       "      <td>False</td>\n",
       "      <td>False</td>\n",
       "      <td>True</td>\n",
       "    </tr>\n",
       "    <tr>\n",
       "      <th>92012</th>\n",
       "      <td>2274456</td>\n",
       "      <td>20</td>\n",
       "      <td>False</td>\n",
       "      <td>NaN</td>\n",
       "      <td>NaN</td>\n",
       "      <td>NaN</td>\n",
       "      <td>NaN</td>\n",
       "      <td>NaN</td>\n",
       "      <td>NaN</td>\n",
       "      <td>NaN</td>\n",
       "      <td>...</td>\n",
       "      <td>NaN</td>\n",
       "      <td>NaN</td>\n",
       "      <td>NaN</td>\n",
       "      <td>NaN</td>\n",
       "      <td>NaN</td>\n",
       "      <td>NaN</td>\n",
       "      <td>False</td>\n",
       "      <td>False</td>\n",
       "      <td>False</td>\n",
       "      <td>True</td>\n",
       "    </tr>\n",
       "    <tr>\n",
       "      <th>92013</th>\n",
       "      <td>2274517</td>\n",
       "      <td>24</td>\n",
       "      <td>False</td>\n",
       "      <td>23.0</td>\n",
       "      <td>31.0</td>\n",
       "      <td>238.680453</td>\n",
       "      <td>0.031944</td>\n",
       "      <td>26.939583</td>\n",
       "      <td>73.060417</td>\n",
       "      <td>0.0</td>\n",
       "      <td>...</td>\n",
       "      <td>0.737319</td>\n",
       "      <td>5.117752e+05</td>\n",
       "      <td>1.000000</td>\n",
       "      <td>477.696011</td>\n",
       "      <td>1.000000</td>\n",
       "      <td>749.603386</td>\n",
       "      <td>True</td>\n",
       "      <td>False</td>\n",
       "      <td>False</td>\n",
       "      <td>True</td>\n",
       "    </tr>\n",
       "  </tbody>\n",
       "</table>\n",
       "<p>92014 rows × 118 columns</p>\n",
       "</div>"
      ],
      "text/plain": [
       "       client_id  recency  inactive  nb_orders  nb_products  average_basket  \\\n",
       "0              6       40      True       13.0         35.0      163.395361   \n",
       "1             14        2     False      487.0       4757.0      260.104439   \n",
       "2             18       10     False      281.0        759.0      117.717070   \n",
       "3             40       20     False       57.0        138.0      204.666585   \n",
       "4             56       20     False       29.0        114.0       83.126516   \n",
       "...          ...      ...       ...        ...          ...             ...   \n",
       "92009    2274398       20     False       10.0         37.0      306.110773   \n",
       "92010    2274410       10     False       92.0        224.0       68.305927   \n",
       "92011    2274440       10     False       24.0         87.0      198.413397   \n",
       "92012    2274456       20     False        NaN          NaN             NaN   \n",
       "92013    2274517       24     False       23.0         31.0      238.680453   \n",
       "\n",
       "       frequency   at_store       phone  sales_rep  ...  date_order_variance  \\\n",
       "0       0.018705  22.416561   77.583439        0.0  ...             0.693841   \n",
       "1       0.669876   1.949063   83.340556        0.0  ...            14.215580   \n",
       "2       0.387052  38.236234   56.830327        0.0  ...            11.606884   \n",
       "3       0.078404  40.242711   59.757289        0.0  ...             2.418478   \n",
       "4       0.041667  80.081339   19.918661        0.0  ...             1.563406   \n",
       "...          ...        ...         ...        ...  ...                  ...   \n",
       "92009   0.014025   0.000000  100.000000        0.0  ...             0.514493   \n",
       "92010   0.128134  52.266890   47.733110        0.0  ...             6.927536   \n",
       "92011   0.033149  29.477999   70.522001        0.0  ...             0.956522   \n",
       "92012        NaN        NaN         NaN        NaN  ...                  NaN   \n",
       "92013   0.031944  26.939583   73.060417        0.0  ...             0.737319   \n",
       "\n",
       "       sales_net_variance  date_order_2019-08_avg_6m  \\\n",
       "0            2.950564e+05                   0.500000   \n",
       "1            3.242250e+09                  20.666667   \n",
       "2            3.396692e+07                  12.500000   \n",
       "3            1.430422e+06                   2.500000   \n",
       "4            3.340104e+05                   0.666667   \n",
       "...                   ...                        ...   \n",
       "92009        2.818196e+06                   0.166667   \n",
       "92010        1.171794e+06                   5.333333   \n",
       "92011        5.014314e+06                   1.166667   \n",
       "92012                 NaN                        NaN   \n",
       "92013        5.117752e+05                   1.000000   \n",
       "\n",
       "       sales_net_2019-08_avg_6m  date_order_2019-08_avg_3m  \\\n",
       "0                    398.307645                   1.000000   \n",
       "1                 136164.647550                  20.000000   \n",
       "2                  10724.690309                  13.333333   \n",
       "3                   1478.598051                   3.000000   \n",
       "4                    227.356005                   0.666667   \n",
       "...                         ...                        ...   \n",
       "92009               1282.352427                   0.333333   \n",
       "92010               1647.072700                   4.333333   \n",
       "92011                283.109208                   1.000000   \n",
       "92012                       NaN                        NaN   \n",
       "92013                477.696011                   1.000000   \n",
       "\n",
       "       sales_net_2019-08_avg_3m  old_client  quali_relation_Agreeable client  \\\n",
       "0                    796.615290        True                             True   \n",
       "1                 146696.968445        True                             True   \n",
       "2                  12845.564697        True                             True   \n",
       "3                   1854.646584        True                            False   \n",
       "4                    131.685120        True                             True   \n",
       "...                         ...         ...                              ...   \n",
       "92009               2564.704853        True                             True   \n",
       "92010               1421.070536        True                            False   \n",
       "92011                372.475432        True                            False   \n",
       "92012                       NaN       False                            False   \n",
       "92013                749.603386        True                            False   \n",
       "\n",
       "       quali_relation_Demanding client  quali_relation_Difficult client  \n",
       "0                                False                            False  \n",
       "1                                False                            False  \n",
       "2                                False                            False  \n",
       "3                                False                             True  \n",
       "4                                False                            False  \n",
       "...                                ...                              ...  \n",
       "92009                            False                            False  \n",
       "92010                             True                            False  \n",
       "92011                            False                             True  \n",
       "92012                            False                             True  \n",
       "92013                            False                             True  \n",
       "\n",
       "[92014 rows x 118 columns]"
      ]
     },
     "execution_count": 76,
     "metadata": {},
     "output_type": "execute_result"
    }
   ],
   "source": [
    "data"
   ]
  },
  {
   "cell_type": "code",
   "execution_count": 80,
   "metadata": {},
   "outputs": [],
   "source": [
    "data.dropna(inplace=True)"
   ]
  },
  {
   "cell_type": "code",
   "execution_count": 81,
   "metadata": {},
   "outputs": [
    {
     "name": "stdout",
     "output_type": "stream",
     "text": [
      "[[4967    0]\n",
      " [  64    0]]\n",
      "              precision    recall  f1-score   support\n",
      "\n",
      "       False       0.99      1.00      0.99      4967\n",
      "        True       0.00      0.00      0.00        64\n",
      "\n",
      "    accuracy                           0.99      5031\n",
      "   macro avg       0.49      0.50      0.50      5031\n",
      "weighted avg       0.97      0.99      0.98      5031\n",
      "\n",
      "AUC-ROC: 0.8390926993154821\n"
     ]
    },
    {
     "name": "stderr",
     "output_type": "stream",
     "text": [
      "c:\\Users\\35387\\anaconda3\\Lib\\site-packages\\sklearn\\metrics\\_classification.py:1497: UndefinedMetricWarning: Precision is ill-defined and being set to 0.0 in labels with no predicted samples. Use `zero_division` parameter to control this behavior.\n",
      "  \n",
      "c:\\Users\\35387\\anaconda3\\Lib\\site-packages\\sklearn\\metrics\\_classification.py:1497: UndefinedMetricWarning: Precision is ill-defined and being set to 0.0 in labels with no predicted samples. Use `zero_division` parameter to control this behavior.\n",
      "  \n",
      "c:\\Users\\35387\\anaconda3\\Lib\\site-packages\\sklearn\\metrics\\_classification.py:1497: UndefinedMetricWarning: Precision is ill-defined and being set to 0.0 in labels with no predicted samples. Use `zero_division` parameter to control this behavior.\n",
      "  \n"
     ]
    }
   ],
   "source": [
    "y =  data['inactive']\n",
    "X = data.drop(['client_id', 'inactive', 'recency'], axis=1)\n",
    "\n",
    "X_train, X_test, y_train, y_test = train_test_split(X, y, test_size=0.3, random_state=42, stratify=y)\n",
    "\n",
    "model = RandomForestClassifier(n_estimators=100, random_state=42)\n",
    "model.fit(X_train, y_train)\n",
    "\n",
    "y_pred = model.predict(X_test)\n",
    "y_pred_proba = model.predict_proba(X_test)[:, 1]\n",
    "\n",
    "print(confusion_matrix(y_test, y_pred))\n",
    "print(classification_report(y_test, y_pred))\n",
    "print(\"AUC-ROC:\", roc_auc_score(y_test, y_pred_proba))"
   ]
  },
  {
   "cell_type": "markdown",
   "metadata": {},
   "source": [
    "#### rf with balanced dataset: undersampling"
   ]
  },
  {
   "cell_type": "code",
   "execution_count": 39,
   "metadata": {},
   "outputs": [],
   "source": [
    "def manual_undersample(X, y):\n",
    "    # Combine features and target into a single DataFrame\n",
    "    data = pd.concat([X, y], axis=1)\n",
    "\n",
    "    # Identify the minority and majority classes\n",
    "    class_counts = y.value_counts()\n",
    "    minority_class = class_counts.idxmin()\n",
    "    majority_class = class_counts.idxmax()\n",
    "\n",
    "    # Separate the minority and majority classes\n",
    "    minority_class_data = data[data[y.name] == minority_class]\n",
    "    majority_class_data = data[data[y.name] == majority_class]\n",
    "\n",
    "    # Undersample the majority class\n",
    "    majority_class_undersampled = majority_class_data.sample(n=len(minority_class_data), random_state=42)\n",
    "\n",
    "    # Combine the minority class with the undersampled majority class\n",
    "    undersampled_data = pd.concat([minority_class_data, majority_class_undersampled])\n",
    "\n",
    "    # Shuffle the data\n",
    "    undersampled_data = undersampled_data.sample(frac=1, random_state=42).reset_index(drop=True)\n",
    "\n",
    "    # Separate features and target\n",
    "    X_undersampled = undersampled_data.drop(y.name, axis=1)\n",
    "    y_undersampled = undersampled_data[y.name]\n",
    "\n",
    "    return X_undersampled, y_undersampled"
   ]
  },
  {
   "cell_type": "code",
   "execution_count": 41,
   "metadata": {},
   "outputs": [],
   "source": [
    "# Balance the training set (undersample the majority class)\n",
    "#rus = RandomUnderSampler(random_state=42)\n",
    "X_train_resampled, y_train_resampled = manual_undersample(X_train, y_train)\n",
    "#X_train_resampled, y_train_resampled = rus.fit_resample(X_train, y_train)"
   ]
  },
  {
   "cell_type": "code",
   "execution_count": 42,
   "metadata": {},
   "outputs": [
    {
     "name": "stdout",
     "output_type": "stream",
     "text": [
      "[[14650  6511]\n",
      " [  788  5656]]\n",
      "              precision    recall  f1-score   support\n",
      "\n",
      "       False       0.95      0.69      0.80     21161\n",
      "        True       0.46      0.88      0.61      6444\n",
      "\n",
      "    accuracy                           0.74     27605\n",
      "   macro avg       0.71      0.79      0.70     27605\n",
      "weighted avg       0.84      0.74      0.76     27605\n",
      "\n",
      "AUC-ROC: 0.8608268372907999\n"
     ]
    }
   ],
   "source": [
    "model = RandomForestClassifier(n_estimators=100, random_state=42)\n",
    "model.fit(X_train_resampled, y_train_resampled)\n",
    "\n",
    "y_pred = model.predict(X_test)\n",
    "y_pred_proba = model.predict_proba(X_test)[:, 1]\n",
    "\n",
    "print(confusion_matrix(y_test, y_pred))\n",
    "print(classification_report(y_test, y_pred))\n",
    "print(\"AUC-ROC:\", roc_auc_score(y_test, y_pred_proba))"
   ]
  },
  {
   "cell_type": "markdown",
   "metadata": {},
   "source": [
    "#### v2 : rf with polynomial features and resampling"
   ]
  },
  {
   "cell_type": "code",
   "execution_count": 43,
   "metadata": {},
   "outputs": [
    {
     "name": "stdout",
     "output_type": "stream",
     "text": [
      "Unexpected exception formatting exception. Falling back to standard exception\n"
     ]
    },
    {
     "name": "stderr",
     "output_type": "stream",
     "text": [
      "Traceback (most recent call last):\n",
      "  File \"c:\\Users\\35387\\anaconda3\\Lib\\site-packages\\IPython\\core\\interactiveshell.py\", line 3505, in run_code\n",
      "    exec(code_obj, self.user_global_ns, self.user_ns)\n",
      "  File \"C:\\Users\\35387\\AppData\\Local\\Temp\\ipykernel_28968\\626176542.py\", line 3, in <module>\n",
      "    X_train_poly = poly.fit_transform(X_train_resampled)\n",
      "                   ^^^^^^^^^^^^^^^^^^^^^^^^^^^^^^^^^^^^^\n",
      "  File \"c:\\Users\\35387\\anaconda3\\Lib\\site-packages\\sklearn\\utils\\_set_output.py\", line 273, in wrapped\n",
      "    raise ValueError(\n",
      "                   ^^^\n",
      "  File \"c:\\Users\\35387\\anaconda3\\Lib\\site-packages\\sklearn\\base.py\", line 1061, in fit_transform\n",
      "    Estimator object to test.\n",
      "               ^^^^^^^^^^^^^^^\n",
      "  File \"c:\\Users\\35387\\anaconda3\\Lib\\site-packages\\sklearn\\base.py\", line 1351, in wrapper\n",
      "  File \"c:\\Users\\35387\\anaconda3\\Lib\\site-packages\\sklearn\\preprocessing\\_polynomial.py\", line 322, in fit\n",
      "  File \"c:\\Users\\35387\\anaconda3\\Lib\\site-packages\\sklearn\\base.py\", line 633, in _validate_data\n",
      "    output[\"text/html\"] = estimator_html_repr(self)\n",
      "          ^^^^^^^^^^^^^^^^^^^^^^^^^^^^^^^^^^^^^^^^^^\n",
      "  File \"c:\\Users\\35387\\anaconda3\\Lib\\site-packages\\sklearn\\utils\\validation.py\", line 1003, in check_array\n",
      "    Standard input checks are also applied to y, such as checking that y\n",
      "            ^^^^^^^^^^^^^^^^^^^^^^^^^^^^^^^^^^^^^^^^^^^^^^^^^^^^^^^^^^^^\n",
      "  File \"c:\\Users\\35387\\anaconda3\\Lib\\site-packages\\sklearn\\utils\\validation.py\", line 126, in _assert_all_finite\n",
      "    use_cython = (\n",
      "  File \"c:\\Users\\35387\\anaconda3\\Lib\\site-packages\\sklearn\\utils\\validation.py\", line 175, in _assert_all_finite_element_wise\n",
      "    X : {ndarray, sparse matrix}\n",
      "        ^^^^^^^^^^^^^^^^^^^^^^^^^\n",
      "ValueError: Input X contains NaN.\n",
      "PolynomialFeatures does not accept missing values encoded as NaN natively. For supervised learning, you might want to consider sklearn.ensemble.HistGradientBoostingClassifier and Regressor which accept missing values encoded as NaNs natively. Alternatively, it is possible to preprocess the data, for instance by using an imputer transformer in a pipeline or drop samples with missing values. See https://scikit-learn.org/stable/modules/impute.html You can find a list of all estimators that handle NaN values at the following page: https://scikit-learn.org/stable/modules/impute.html#estimators-that-handle-nan-values\n",
      "\n",
      "During handling of the above exception, another exception occurred:\n",
      "\n",
      "Traceback (most recent call last):\n",
      "  File \"c:\\Users\\35387\\anaconda3\\Lib\\site-packages\\IPython\\core\\interactiveshell.py\", line 2102, in showtraceback\n",
      "    stb = self.InteractiveTB.structured_traceback(\n",
      "          ^^^^^^^^^^^^^^^^^^^^^^^^^^^^^^^^^^^^^^^^\n",
      "  File \"c:\\Users\\35387\\anaconda3\\Lib\\site-packages\\IPython\\core\\ultratb.py\", line 1310, in structured_traceback\n",
      "    return FormattedTB.structured_traceback(\n",
      "           ^^^^^^^^^^^^^^^^^^^^^^^^^^^^^^^^^\n",
      "  File \"c:\\Users\\35387\\anaconda3\\Lib\\site-packages\\IPython\\core\\ultratb.py\", line 1199, in structured_traceback\n",
      "    return VerboseTB.structured_traceback(\n",
      "           ^^^^^^^^^^^^^^^^^^^^^^^^^^^^^^^\n",
      "  File \"c:\\Users\\35387\\anaconda3\\Lib\\site-packages\\IPython\\core\\ultratb.py\", line 1052, in structured_traceback\n",
      "    formatted_exception = self.format_exception_as_a_whole(etype, evalue, etb, number_of_lines_of_context,\n",
      "                          ^^^^^^^^^^^^^^^^^^^^^^^^^^^^^^^^^^^^^^^^^^^^^^^^^^^^^^^^^^^^^^^^^^^^^^^^^^^^^^^^\n",
      "  File \"c:\\Users\\35387\\anaconda3\\Lib\\site-packages\\IPython\\core\\ultratb.py\", line 978, in format_exception_as_a_whole\n",
      "    frames.append(self.format_record(record))\n",
      "                  ^^^^^^^^^^^^^^^^^^^^^^^^^^\n",
      "  File \"c:\\Users\\35387\\anaconda3\\Lib\\site-packages\\IPython\\core\\ultratb.py\", line 878, in format_record\n",
      "    frame_info.lines, Colors, self.has_colors, lvals\n",
      "    ^^^^^^^^^^^^^^^^\n",
      "  File \"c:\\Users\\35387\\anaconda3\\Lib\\site-packages\\IPython\\core\\ultratb.py\", line 712, in lines\n",
      "    return self._sd.lines\n",
      "           ^^^^^^^^^^^^^^\n",
      "  File \"c:\\Users\\35387\\anaconda3\\Lib\\site-packages\\stack_data\\utils.py\", line 145, in cached_property_wrapper\n",
      "    value = obj.__dict__[self.func.__name__] = self.func(obj)\n",
      "                                               ^^^^^^^^^^^^^^\n",
      "  File \"c:\\Users\\35387\\anaconda3\\Lib\\site-packages\\stack_data\\core.py\", line 698, in lines\n",
      "    pieces = self.included_pieces\n",
      "             ^^^^^^^^^^^^^^^^^^^^\n",
      "  File \"c:\\Users\\35387\\anaconda3\\Lib\\site-packages\\stack_data\\utils.py\", line 145, in cached_property_wrapper\n",
      "    value = obj.__dict__[self.func.__name__] = self.func(obj)\n",
      "                                               ^^^^^^^^^^^^^^\n",
      "  File \"c:\\Users\\35387\\anaconda3\\Lib\\site-packages\\stack_data\\core.py\", line 649, in included_pieces\n",
      "    pos = scope_pieces.index(self.executing_piece)\n",
      "                             ^^^^^^^^^^^^^^^^^^^^\n",
      "  File \"c:\\Users\\35387\\anaconda3\\Lib\\site-packages\\stack_data\\utils.py\", line 145, in cached_property_wrapper\n",
      "    value = obj.__dict__[self.func.__name__] = self.func(obj)\n",
      "                                               ^^^^^^^^^^^^^^\n",
      "  File \"c:\\Users\\35387\\anaconda3\\Lib\\site-packages\\stack_data\\core.py\", line 628, in executing_piece\n",
      "    return only(\n",
      "           ^^^^^\n",
      "  File \"c:\\Users\\35387\\anaconda3\\Lib\\site-packages\\executing\\executing.py\", line 164, in only\n",
      "    raise NotOneValueFound('Expected one value, found 0')\n",
      "executing.executing.NotOneValueFound: Expected one value, found 0\n"
     ]
    }
   ],
   "source": [
    "# Add polynomial features\n",
    "poly = PolynomialFeatures(2)\n",
    "X_train_poly = poly.fit_transform(X_train_resampled)\n",
    "X_test_poly = poly.transform(X_test)"
   ]
  },
  {
   "cell_type": "code",
   "execution_count": 115,
   "metadata": {},
   "outputs": [
    {
     "name": "stdout",
     "output_type": "stream",
     "text": [
      "[[13090  7548]\n",
      " [ 1517  4945]]\n",
      "              precision    recall  f1-score   support\n",
      "\n",
      "       False       0.90      0.63      0.74     20638\n",
      "        True       0.40      0.77      0.52      6462\n",
      "\n",
      "    accuracy                           0.67     27100\n",
      "   macro avg       0.65      0.70      0.63     27100\n",
      "weighted avg       0.78      0.67      0.69     27100\n",
      "\n",
      "AUC-ROC: 0.7659306095923811\n"
     ]
    }
   ],
   "source": [
    "model = RandomForestClassifier(n_estimators=100, random_state=42)\n",
    "model.fit(X_train_poly, y_train_resampled)\n",
    "\n",
    "y_pred = model.predict(X_test_poly)\n",
    "y_pred_proba = model.predict_proba(X_test_poly)[:, 1]\n",
    "\n",
    "print(confusion_matrix(y_test, y_pred))\n",
    "print(classification_report(y_test, y_pred))\n",
    "print(\"AUC-ROC:\", roc_auc_score(y_test, y_pred_proba))\n"
   ]
  },
  {
   "cell_type": "markdown",
   "metadata": {},
   "source": [
    "#### v3 : XGBoost with polynomial features and resampling"
   ]
  },
  {
   "cell_type": "code",
   "execution_count": 101,
   "metadata": {},
   "outputs": [],
   "source": [
    "poly = PolynomialFeatures(2)\n",
    "X_train_poly = poly.fit_transform(X_train_resampled)\n",
    "X_test_poly = poly.transform(X_test)"
   ]
  },
  {
   "cell_type": "code",
   "execution_count": 100,
   "metadata": {},
   "outputs": [
    {
     "name": "stdout",
     "output_type": "stream",
     "text": [
      "[[12419  8219]\n",
      " [ 1025  5437]]\n",
      "              precision    recall  f1-score   support\n",
      "\n",
      "       False       0.92      0.60      0.73     20638\n",
      "        True       0.40      0.84      0.54      6462\n",
      "\n",
      "    accuracy                           0.66     27100\n",
      "   macro avg       0.66      0.72      0.63     27100\n",
      "weighted avg       0.80      0.66      0.68     27100\n",
      "\n",
      "AUC-ROC: 0.7856768046995068\n"
     ]
    }
   ],
   "source": [
    "# XGboost model\n",
    "model = XGBClassifier(n_estimators=20, random_state=42)\n",
    "model.fit(X_train_poly, y_train_resampled)\n",
    "\n",
    "y_pred = model.predict(X_test_poly)\n",
    "y_pred_proba = model.predict_proba(X_test_poly)[:, 1]\n",
    "\n",
    "print(confusion_matrix(y_test, y_pred))\n",
    "print(classification_report(y_test, y_pred))\n",
    "print(\"AUC-ROC:\", roc_auc_score(y_test, y_pred_proba))"
   ]
  },
  {
   "cell_type": "markdown",
   "metadata": {},
   "source": [
    "#### v4 : XGBoost without polynomial features and resampling"
   ]
  },
  {
   "cell_type": "code",
   "execution_count": 1,
   "metadata": {},
   "outputs": [
    {
     "ename": "NameError",
     "evalue": "name 'data' is not defined",
     "output_type": "error",
     "traceback": [
      "\u001b[1;31m---------------------------------------------------------------------------\u001b[0m",
      "\u001b[1;31mNameError\u001b[0m                                 Traceback (most recent call last)",
      "Cell \u001b[1;32mIn[1], line 1\u001b[0m\n\u001b[1;32m----> 1\u001b[0m y \u001b[38;5;241m=\u001b[39m  data[\u001b[38;5;124m'\u001b[39m\u001b[38;5;124minactive\u001b[39m\u001b[38;5;124m'\u001b[39m]\n\u001b[0;32m      2\u001b[0m X \u001b[38;5;241m=\u001b[39m data\u001b[38;5;241m.\u001b[39mdrop([\u001b[38;5;124m'\u001b[39m\u001b[38;5;124mclient_id\u001b[39m\u001b[38;5;124m'\u001b[39m, \u001b[38;5;124m'\u001b[39m\u001b[38;5;124minactive\u001b[39m\u001b[38;5;124m'\u001b[39m, \u001b[38;5;124m'\u001b[39m\u001b[38;5;124mrecency\u001b[39m\u001b[38;5;124m'\u001b[39m], axis\u001b[38;5;241m=\u001b[39m\u001b[38;5;241m1\u001b[39m)\n\u001b[0;32m      4\u001b[0m X_train, X_test, y_train, y_test \u001b[38;5;241m=\u001b[39m train_test_split(X, y, test_size\u001b[38;5;241m=\u001b[39m\u001b[38;5;241m0.3\u001b[39m, random_state\u001b[38;5;241m=\u001b[39m\u001b[38;5;241m42\u001b[39m)\n",
      "\u001b[1;31mNameError\u001b[0m: name 'data' is not defined"
     ]
    }
   ],
   "source": [
    "y =  data['inactive']\n",
    "X = data.drop(['client_id', 'inactive', 'recency'], axis=1)\n",
    "\n",
    "X_train, X_test, y_train, y_test = train_test_split(X, y, test_size=0.3, random_state=42)"
   ]
  },
  {
   "cell_type": "code",
   "execution_count": 105,
   "metadata": {},
   "outputs": [],
   "source": [
    "# Balance the training set (undersample the majority class)\n",
    "rus = RandomUnderSampler(random_state=42)\n",
    "X_train_resampled, y_train_resampled = rus.fit_resample(X_train, y_train)"
   ]
  },
  {
   "cell_type": "code",
   "execution_count": 112,
   "metadata": {},
   "outputs": [
    {
     "name": "stdout",
     "output_type": "stream",
     "text": [
      "[[12388  8250]\n",
      " [ 1015  5447]]\n",
      "              precision    recall  f1-score   support\n",
      "\n",
      "       False       0.92      0.60      0.73     20638\n",
      "        True       0.40      0.84      0.54      6462\n",
      "\n",
      "    accuracy                           0.66     27100\n",
      "   macro avg       0.66      0.72      0.63     27100\n",
      "weighted avg       0.80      0.66      0.68     27100\n",
      "\n",
      "AUC-ROC: 0.786822728078595\n"
     ]
    }
   ],
   "source": [
    "# XGboost model\n",
    "model = XGBClassifier(n_estimators=20, random_state=42)\n",
    "model.fit(X_train_resampled, y_train_resampled)\n",
    "\n",
    "y_pred = model.predict(X_test)\n",
    "y_pred_proba = model.predict_proba(X_test)[:, 1]\n",
    "\n",
    "print(confusion_matrix(y_test, y_pred))\n",
    "print(classification_report(y_test, y_pred))\n",
    "print(\"AUC-ROC:\", roc_auc_score(y_test, y_pred_proba))"
   ]
  },
  {
   "cell_type": "markdown",
   "metadata": {},
   "source": [
    "Approximately the same"
   ]
  },
  {
   "cell_type": "markdown",
   "metadata": {},
   "source": [
    "### Train a model (v2 with added monthly features)"
   ]
  },
  {
   "cell_type": "code",
   "execution_count": 76,
   "metadata": {},
   "outputs": [],
   "source": [
    "data.dropna(subset=['nb_orders'], inplace=True)"
   ]
  },
  {
   "cell_type": "code",
   "execution_count": 80,
   "metadata": {},
   "outputs": [],
   "source": [
    "# Replace all NaN values by 0\n",
    "data.fillna(0, inplace=True)"
   ]
  },
  {
   "cell_type": "markdown",
   "metadata": {},
   "source": [
    "#### v1 : rf"
   ]
  },
  {
   "cell_type": "code",
   "execution_count": 81,
   "metadata": {},
   "outputs": [],
   "source": [
    "y =  data['inactive']\n",
    "X = data.drop(['client_id', 'inactive', 'recency'], axis=1)\n",
    "\n",
    "X_train, X_test, y_train, y_test = train_test_split(X, y, test_size=0.3, random_state=42)"
   ]
  },
  {
   "cell_type": "code",
   "execution_count": 83,
   "metadata": {},
   "outputs": [
    {
     "name": "stdout",
     "output_type": "stream",
     "text": [
      "[[19030  1608]\n",
      " [ 3543  2919]]\n",
      "              precision    recall  f1-score   support\n",
      "\n",
      "       False       0.84      0.92      0.88     20638\n",
      "        True       0.64      0.45      0.53      6462\n",
      "\n",
      "    accuracy                           0.81     27100\n",
      "   macro avg       0.74      0.69      0.71     27100\n",
      "weighted avg       0.80      0.81      0.80     27100\n",
      "\n",
      "AUC-ROC: 0.8576003933212057\n"
     ]
    }
   ],
   "source": [
    "model = RandomForestClassifier(n_estimators=100, random_state=42)\n",
    "model.fit(X_train, y_train)\n",
    "\n",
    "y_pred = model.predict(X_test)\n",
    "y_pred_proba = model.predict_proba(X_test)[:, 1]\n",
    "\n",
    "print(confusion_matrix(y_test, y_pred))\n",
    "print(classification_report(y_test, y_pred))\n",
    "print(\"AUC-ROC:\", roc_auc_score(y_test, y_pred_proba))"
   ]
  },
  {
   "cell_type": "markdown",
   "metadata": {},
   "source": [
    "#### rf with balanced dataset: undersampling"
   ]
  },
  {
   "cell_type": "code",
   "execution_count": 84,
   "metadata": {},
   "outputs": [],
   "source": [
    "# Balance the training set (undersample the majority class)\n",
    "rus = RandomUnderSampler(random_state=42)\n",
    "X_train_resampled, y_train_resampled = rus.fit_resample(X_train, y_train)"
   ]
  },
  {
   "cell_type": "code",
   "execution_count": 85,
   "metadata": {},
   "outputs": [
    {
     "name": "stdout",
     "output_type": "stream",
     "text": [
      "[[14832  5806]\n",
      " [ 1031  5431]]\n",
      "              precision    recall  f1-score   support\n",
      "\n",
      "       False       0.94      0.72      0.81     20638\n",
      "        True       0.48      0.84      0.61      6462\n",
      "\n",
      "    accuracy                           0.75     27100\n",
      "   macro avg       0.71      0.78      0.71     27100\n",
      "weighted avg       0.83      0.75      0.77     27100\n",
      "\n",
      "AUC-ROC: 0.8574085781490597\n"
     ]
    }
   ],
   "source": [
    "model = RandomForestClassifier(n_estimators=100, random_state=42)\n",
    "model.fit(X_train_resampled, y_train_resampled)\n",
    "\n",
    "y_pred = model.predict(X_test)\n",
    "y_pred_proba = model.predict_proba(X_test)[:, 1]\n",
    "\n",
    "print(confusion_matrix(y_test, y_pred))\n",
    "print(classification_report(y_test, y_pred))\n",
    "print(\"AUC-ROC:\", roc_auc_score(y_test, y_pred_proba))"
   ]
  },
  {
   "cell_type": "markdown",
   "metadata": {},
   "source": [
    "#### v2 : rf with polynomial features and resampling"
   ]
  },
  {
   "cell_type": "code",
   "execution_count": 86,
   "metadata": {},
   "outputs": [],
   "source": [
    "# Add polynomial features\n",
    "poly = PolynomialFeatures(2)\n",
    "X_train_poly = poly.fit_transform(X_train_resampled)\n",
    "X_test_poly = poly.transform(X_test)"
   ]
  },
  {
   "cell_type": "code",
   "execution_count": 87,
   "metadata": {},
   "outputs": [
    {
     "name": "stdout",
     "output_type": "stream",
     "text": [
      "[[15118  5520]\n",
      " [ 1156  5306]]\n",
      "              precision    recall  f1-score   support\n",
      "\n",
      "       False       0.93      0.73      0.82     20638\n",
      "        True       0.49      0.82      0.61      6462\n",
      "\n",
      "    accuracy                           0.75     27100\n",
      "   macro avg       0.71      0.78      0.72     27100\n",
      "weighted avg       0.82      0.75      0.77     27100\n",
      "\n",
      "AUC-ROC: 0.8572846867381776\n"
     ]
    }
   ],
   "source": [
    "model = RandomForestClassifier(n_estimators=100, random_state=42)\n",
    "model.fit(X_train_poly, y_train_resampled)\n",
    "\n",
    "y_pred = model.predict(X_test_poly)\n",
    "y_pred_proba = model.predict_proba(X_test_poly)[:, 1]\n",
    "\n",
    "print(confusion_matrix(y_test, y_pred))\n",
    "print(classification_report(y_test, y_pred))\n",
    "print(\"AUC-ROC:\", roc_auc_score(y_test, y_pred_proba))\n"
   ]
  },
  {
   "cell_type": "markdown",
   "metadata": {},
   "source": [
    "#### v3 : XGBoost with polynomial features and resampling"
   ]
  },
  {
   "cell_type": "code",
   "execution_count": 88,
   "metadata": {},
   "outputs": [],
   "source": [
    "poly = PolynomialFeatures(2)\n",
    "X_train_poly = poly.fit_transform(X_train_resampled)\n",
    "X_test_poly = poly.transform(X_test)"
   ]
  },
  {
   "cell_type": "code",
   "execution_count": 89,
   "metadata": {},
   "outputs": [
    {
     "name": "stdout",
     "output_type": "stream",
     "text": [
      "[[14421  6217]\n",
      " [  914  5548]]\n",
      "              precision    recall  f1-score   support\n",
      "\n",
      "       False       0.94      0.70      0.80     20638\n",
      "        True       0.47      0.86      0.61      6462\n",
      "\n",
      "    accuracy                           0.74     27100\n",
      "   macro avg       0.71      0.78      0.71     27100\n",
      "weighted avg       0.83      0.74      0.76     27100\n",
      "\n",
      "AUC-ROC: 0.8600179798323903\n"
     ]
    }
   ],
   "source": [
    "# XGboost model\n",
    "model = XGBClassifier(n_estimators=20, random_state=42)\n",
    "model.fit(X_train_poly, y_train_resampled)\n",
    "\n",
    "y_pred = model.predict(X_test_poly)\n",
    "y_pred_proba = model.predict_proba(X_test_poly)[:, 1]\n",
    "\n",
    "print(confusion_matrix(y_test, y_pred))\n",
    "print(classification_report(y_test, y_pred))\n",
    "print(\"AUC-ROC:\", roc_auc_score(y_test, y_pred_proba))"
   ]
  },
  {
   "cell_type": "markdown",
   "metadata": {},
   "source": [
    "#### v4 : XGBoost without polynomial features and resampling"
   ]
  },
  {
   "cell_type": "code",
   "execution_count": 90,
   "metadata": {},
   "outputs": [],
   "source": [
    "y =  data['inactive']\n",
    "X = data.drop(['client_id', 'inactive', 'recency'], axis=1)\n",
    "\n",
    "X_train, X_test, y_train, y_test = train_test_split(X, y, test_size=0.3, random_state=42)"
   ]
  },
  {
   "cell_type": "code",
   "execution_count": 91,
   "metadata": {},
   "outputs": [],
   "source": [
    "# Balance the training set (undersample the majority class)\n",
    "rus = RandomUnderSampler(random_state=42)\n",
    "X_train_resampled, y_train_resampled = rus.fit_resample(X_train, y_train)"
   ]
  },
  {
   "cell_type": "code",
   "execution_count": 92,
   "metadata": {},
   "outputs": [
    {
     "name": "stdout",
     "output_type": "stream",
     "text": [
      "[[14530  6108]\n",
      " [  919  5543]]\n",
      "              precision    recall  f1-score   support\n",
      "\n",
      "       False       0.94      0.70      0.81     20638\n",
      "        True       0.48      0.86      0.61      6462\n",
      "\n",
      "    accuracy                           0.74     27100\n",
      "   macro avg       0.71      0.78      0.71     27100\n",
      "weighted avg       0.83      0.74      0.76     27100\n",
      "\n",
      "AUC-ROC: 0.860677133127033\n"
     ]
    }
   ],
   "source": [
    "# XGboost model\n",
    "model = XGBClassifier(n_estimators=20, random_state=42)\n",
    "model.fit(X_train_resampled, y_train_resampled)\n",
    "\n",
    "y_pred = model.predict(X_test)\n",
    "y_pred_proba = model.predict_proba(X_test)[:, 1]\n",
    "\n",
    "print(confusion_matrix(y_test, y_pred))\n",
    "print(classification_report(y_test, y_pred))\n",
    "print(\"AUC-ROC:\", roc_auc_score(y_test, y_pred_proba))"
   ]
  },
  {
   "cell_type": "markdown",
   "metadata": {},
   "source": [
    "#### v5 : XGBoost without polynomial features and without resampling"
   ]
  },
  {
   "cell_type": "code",
   "execution_count": 93,
   "metadata": {},
   "outputs": [],
   "source": [
    "y =  data['inactive']\n",
    "X = data.drop(['client_id', 'inactive', 'recency'], axis=1)\n",
    "\n",
    "X_train, X_test, y_train, y_test = train_test_split(X, y, test_size=0.3, random_state=42)"
   ]
  },
  {
   "cell_type": "code",
   "execution_count": 94,
   "metadata": {},
   "outputs": [
    {
     "name": "stdout",
     "output_type": "stream",
     "text": [
      "[[18879  1759]\n",
      " [ 3287  3175]]\n",
      "              precision    recall  f1-score   support\n",
      "\n",
      "       False       0.85      0.91      0.88     20638\n",
      "        True       0.64      0.49      0.56      6462\n",
      "\n",
      "    accuracy                           0.81     27100\n",
      "   macro avg       0.75      0.70      0.72     27100\n",
      "weighted avg       0.80      0.81      0.80     27100\n",
      "\n",
      "AUC-ROC: 0.8627802052920982\n"
     ]
    }
   ],
   "source": [
    "# XGboost model\n",
    "model = XGBClassifier(n_estimators=20, random_state=42)\n",
    "model.fit(X_train, y_train)\n",
    "\n",
    "y_pred = model.predict(X_test)\n",
    "y_pred_proba = model.predict_proba(X_test)[:, 1]\n",
    "\n",
    "print(confusion_matrix(y_test, y_pred))\n",
    "print(classification_report(y_test, y_pred))\n",
    "print(\"AUC-ROC:\", roc_auc_score(y_test, y_pred_proba))"
   ]
  }
 ],
 "metadata": {
  "kernelspec": {
   "display_name": "base",
   "language": "python",
   "name": "python3"
  },
  "language_info": {
   "codemirror_mode": {
    "name": "ipython",
    "version": 3
   },
   "file_extension": ".py",
   "mimetype": "text/x-python",
   "name": "python",
   "nbconvert_exporter": "python",
   "pygments_lexer": "ipython3",
   "version": "3.11.4"
  }
 },
 "nbformat": 4,
 "nbformat_minor": 2
}
